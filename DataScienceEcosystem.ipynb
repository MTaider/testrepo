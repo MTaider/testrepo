{
 "cells": [
  {
   "cell_type": "markdown",
   "id": "4fb89a3c-12b8-43f9-a4b8-0ff9b7302272",
   "metadata": {},
   "source": [
    "# Data Science Tools and Ecosystem"
   ]
  },
  {
   "cell_type": "markdown",
   "id": "77e73063-a1f3-425a-9fe4-3230c21a3759",
   "metadata": {},
   "source": [
    "In this notebook, Data Science Tools and Ecosystem are summarized."
   ]
  },
  {
   "cell_type": "markdown",
   "id": "9852e76e-0874-40a3-a367-dccaa277379d",
   "metadata": {},
   "source": [
    "**Objectives:**\n",
    "- List popular languages for Data Science\n",
    "- Show how to create and format cells in Jupyter Notebook\n",
    "- List of data science libraries\n",
    "- Explain the tools and environments used in Data Science\n",
    "- Write a code cell to multiply and add numbers\n",
    "- Write a code cell to convert minutes into hours\n",
    "  \n",
    "\n",
    "  \n"
   ]
  },
  {
   "cell_type": "markdown",
   "id": "966baffc-1320-4233-8591-dd106259a077",
   "metadata": {},
   "source": [
    "Some of the popular languages that Data Scientists use are:\n",
    "1. Python\n",
    "2. R\n",
    "3. SQL\n",
    "4. Julia"
   ]
  },
  {
   "cell_type": "markdown",
   "id": "3ac13837-8606-4394-99c6-0e045286c1b4",
   "metadata": {},
   "source": [
    "Some of the commonly used libraries used by Data Scientists include:\n",
    "1. Pandas\n",
    "2. Numpy\n",
    "3. Scikit-learn\n",
    "4. Matplotlib\n",
    "5. Seaborn"
   ]
  },
  {
   "cell_type": "markdown",
   "id": "ffd7651f-98c4-43d0-8e10-f3a9792d689e",
   "metadata": {},
   "source": [
    "|Data Science Tools|\n",
    "|------------------|\n",
    "|Jupyter Notebook|\n",
    "|VS Code  |\n",
    "| Rstudio|\n",
    "|IBM Watson Studio  |\n"
   ]
  },
  {
   "cell_type": "markdown",
   "id": "860884f9-2ade-4350-b65f-7a39a3fb3e37",
   "metadata": {},
   "source": [
    "### Below are a few examples of evaluating arithmetic expressions in Python\n",
    "\n",
    "1. **Addition :** `6 + 7` gives `13`\n",
    "2. **Subtraction :** `37 - 12` gives `25`\n",
    "3. **Multiplication :** `14 * 8` gives `112`\n",
    "4. **Division :** `40 / 2` gives `20`\n",
    "5. **Exponentiation:** `4**4` gives `256`\n",
    "\n"
   ]
  },
  {
   "cell_type": "code",
   "execution_count": 81,
   "id": "0cae4c4d-0f2b-4e0d-974c-b457b5617bb3",
   "metadata": {},
   "outputs": [
    {
     "data": {
      "text/plain": [
       "17"
      ]
     },
     "execution_count": 81,
     "metadata": {},
     "output_type": "execute_result"
    }
   ],
   "source": [
    "#  This a simple arithmetic expression to mutiply then add integers\n",
    "(3*4)+5"
   ]
  },
  {
   "cell_type": "code",
   "execution_count": 54,
   "id": "2c59f296-7d91-47b8-af36-482ab4ae5e98",
   "metadata": {},
   "outputs": [
    {
     "name": "stdout",
     "output_type": "stream",
     "text": [
      "3.3333333333333335\n"
     ]
    }
   ],
   "source": [
    "#This will convert 200 minutes to hours by diving by 60\n",
    "minutes = 200\n",
    "hours = 60\n",
    "print( minutes / hours)\n"
   ]
  },
  {
   "cell_type": "markdown",
   "id": "63db04a3-703d-4b42-b2cb-b8ac8e183954",
   "metadata": {
    "jp-MarkdownHeadingCollapsed": true
   },
   "source": [
    "Author\n",
    "## Taider Moussa"
   ]
  }
 ],
 "metadata": {
  "kernelspec": {
   "display_name": "Python 3 (ipykernel)",
   "language": "python",
   "name": "python3"
  },
  "language_info": {
   "codemirror_mode": {
    "name": "ipython",
    "version": 3
   },
   "file_extension": ".py",
   "mimetype": "text/x-python",
   "name": "python",
   "nbconvert_exporter": "python",
   "pygments_lexer": "ipython3",
   "version": "3.12.4"
  }
 },
 "nbformat": 4,
 "nbformat_minor": 5
}
