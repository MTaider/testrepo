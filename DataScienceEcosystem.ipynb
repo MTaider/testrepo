{
 "cells": [
  {
   "cell_type": "markdown",
   "id": "b33a7fda-f007-4106-90a4-b9e24a0ead3e",
   "metadata": {},
   "source": [
    "# Data Science Tools and Ecosystem"
   ]
  },
  {
   "cell_type": "markdown",
   "id": "110cb6e1-07e6-449a-b161-54008e63584c",
   "metadata": {},
   "source": [
    "In this notebook, Data Science Tools and Ecosystem are summarized."
   ]
  },
  {
   "cell_type": "markdown",
   "id": "5edf67ac-18e6-4aa2-ae7c-f0c8e49375d7",
   "metadata": {},
   "source": [
    "Some of the popular languages that Data Scientists use are:\n"
   ]
  },
  {
   "cell_type": "markdown",
   "id": "eba4f11a-e6f8-4303-be4b-a48d964797c4",
   "metadata": {},
   "source": [
    "1. Python\n",
    "2. R\n",
    "3. SQL\n",
    "4. Julia"
   ]
  },
  {
   "cell_type": "markdown",
   "id": "1132b7e8-812c-4f87-a35e-f45f64b4f0b5",
   "metadata": {},
   "source": [
    "Some of the commonly used libraries used by Data Scientists include:"
   ]
  },
  {
   "cell_type": "markdown",
   "id": "cc0bbb2e-ca79-457f-9bbd-4daa18e1b2d5",
   "metadata": {},
   "source": [
    "1. Pandas\n",
    "2. Numpy\n",
    "3. Scikit-learn\n",
    "4. Matplotlib\n",
    "5. Seaborn"
   ]
  },
  {
   "cell_type": "markdown",
   "id": "a2567b5d-794e-4f56-8e80-c362b3fd8ccf",
   "metadata": {},
   "source": [
    "|Data Science Tools|\n",
    "|------------------|\n",
    "|Jupyter Notebook|\n",
    "|VS Code  |\n",
    "| Rstudio|\n",
    "|IBM Watson Studio  |\n"
   ]
  },
  {
   "cell_type": "markdown",
   "id": "af109671-7d83-4a0d-b814-ba003c180663",
   "metadata": {},
   "source": [
    "### Below are a few examples of evaluating arithmetic expressions in Python"
   ]
  },
  {
   "cell_type": "code",
   "execution_count": 18,
   "id": "9b5a8777-1558-4d1b-bee3-9ea9b4beeaab",
   "metadata": {},
   "outputs": [
    {
     "data": {
      "text/plain": [
       "17"
      ]
     },
     "execution_count": 18,
     "metadata": {},
     "output_type": "execute_result"
    }
   ],
   "source": [
    "#  This a simple arithmetic expression to mutiply then add integers\n",
    "(3*4)+5"
   ]
  },
  {
   "cell_type": "code",
   "execution_count": 22,
   "id": "cd30650b-3be4-40ae-ae09-741576120d9b",
   "metadata": {},
   "outputs": [
    {
     "data": {
      "text/plain": [
       "3.3333333333333335"
      ]
     },
     "execution_count": 22,
     "metadata": {},
     "output_type": "execute_result"
    }
   ],
   "source": [
    "#This will convert 200 minutes to hours by diving by 60\n",
    "def minutes_to_hours(minutes):\n",
    "    hours=minutes / 60\n",
    "    return hours\n",
    "\n",
    "minutes = 200\n",
    "hours = minutes_to_hours(minutes)\n",
    "hours\n"
   ]
  },
  {
   "cell_type": "markdown",
   "id": "e2f7b3ff-4d51-4a92-85da-39896b2f7d30",
   "metadata": {},
   "source": [
    "Author\n",
    "## Taider Moussa"
   ]
  },
  {
   "cell_type": "code",
   "execution_count": null,
   "id": "d119d7ce-146e-4556-9709-ce2e84d28142",
   "metadata": {},
   "outputs": [],
   "source": []
  }
 ],
 "metadata": {
  "kernelspec": {
   "display_name": "Python 3 (ipykernel)",
   "language": "python",
   "name": "python3"
  },
  "language_info": {
   "codemirror_mode": {
    "name": "ipython",
    "version": 3
   },
   "file_extension": ".py",
   "mimetype": "text/x-python",
   "name": "python",
   "nbconvert_exporter": "python",
   "pygments_lexer": "ipython3",
   "version": "3.12.4"
  }
 },
 "nbformat": 4,
 "nbformat_minor": 5
}
